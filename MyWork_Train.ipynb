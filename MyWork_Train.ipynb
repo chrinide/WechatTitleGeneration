{
 "cells": [
  {
   "cell_type": "markdown",
   "metadata": {},
   "source": [
    "## Train the summarization method with seq2seq model ### "
   ]
  },
  {
   "cell_type": "markdown",
   "metadata": {},
   "source": [
    "This is to use the TensorLayer to implement the seq2seq model for generating text summaries.  Specifically, we generate one sentence headline for the content.  \n",
    "\n",
    "### Prepare data, including pickle, word embedding and etc.  \n",
    "\n",
    "Currently we only have an extremly simple example for word embedding.  \n",
    "First, we will read the pickle file and then split it into a sequence of words for title and content.  Our model will use the word RNN-RNN model.  "
   ]
  },
  {
   "cell_type": "code",
   "execution_count": 2,
   "metadata": {
    "collapsed": true
   },
   "outputs": [],
   "source": [
    "import pickle\n",
    "import re\n",
    "import numpy as np\n",
    "import tensorflow as tf\n",
    "from collections import Counter"
   ]
  },
  {
   "cell_type": "markdown",
   "metadata": {},
   "source": [
    "#### Write into pickle file\n",
    "The following cell is to open the Wechat files and save them as a pickle file. "
   ]
  },
  {
   "cell_type": "code",
   "execution_count": 3,
   "metadata": {
    "collapsed": true
   },
   "outputs": [],
   "source": [
    "title_file = open('data/Wechat_title.parsed.txt', encoding='utf8')\n",
    "content_file = open('data/Wechat_content.parsed.txt', encoding='utf8')\n",
    "\n",
    "title_line = title_file.readlines()\n",
    "content_line = content_file.readlines()\n",
    "\n",
    "pkl_file = open('data.pkl', 'wb')\n",
    "data  = {\n",
    "    'title':title_line,\n",
    "    'content':content_line,\n",
    "    'keyword':None\n",
    "}\n",
    "\n",
    "pickle.dump(data, pkl_file)\n",
    "pkl_file.close()"
   ]
  },
  {
   "cell_type": "markdown",
   "metadata": {},
   "source": [
    "#### Read data from the Pickle file and split them into a sequence of tokens separated by space.  \n",
    "Each token can be a single Chinese character or tokenized word.  "
   ]
  },
  {
   "cell_type": "code",
   "execution_count": 4,
   "metadata": {
    "collapsed": false
   },
   "outputs": [],
   "source": [
    "pkl_file = open('data.pkl', 'rb')\n",
    "\n",
    "data = pickle.load(pkl_file)\n",
    "\n",
    "pkl_file.close()\n",
    "\n",
    "title = data['title']\n",
    "content = data['content']\n",
    "#title_words = [t.split() for t in title]\n",
    "#content_words = [c.split() for c in content]"
   ]
  },
  {
   "cell_type": "markdown",
   "metadata": {},
   "source": [
    "#### Generate vocabulary file \n",
    "The vocabulary file contains all unique words in the corpus.  "
   ]
  },
  {
   "cell_type": "code",
   "execution_count": 5,
   "metadata": {
    "collapsed": false
   },
   "outputs": [],
   "source": [
    "from itertools import chain\n",
    "\n",
    "def generate_vocab(lst):\n",
    "    word_counter = Counter([w for curr_line in lst for w in curr_line.split() ])\n",
    "    return word_counter\n",
    "\n",
    "vocabcounter = generate_vocab(title+content)\n",
    "vocabcounter = sorted(vocabcounter.items(), key=lambda d:d[1], reverse=True)\n",
    "#print(sorted(vocabcounter.items(), key=lambda d:d[1], reverse=True))\n",
    "#print(vocabsort)\n",
    "vocab = [w[0] for w in vocabcounter ]\n",
    "# print(vocab)"
   ]
  },
  {
   "cell_type": "code",
   "execution_count": 6,
   "metadata": {
    "collapsed": false
   },
   "outputs": [
    {
     "name": "stdout",
     "output_type": "stream",
     "text": [
      "可以\n",
      "0\n"
     ]
    }
   ],
   "source": [
    "# create look up table for vocab: word2idx and idx2word\n",
    "word2idx = {w:i for i, w in enumerate(vocab)}\n",
    "idx2word = {i:w for i, w in enumerate(vocab)}\n",
    "print(idx2word[0])\n",
    "print(word2idx['可以'])"
   ]
  },
  {
   "cell_type": "markdown",
   "metadata": {},
   "source": [
    "#### Display the word frequency of the dictionary. "
   ]
  },
  {
   "cell_type": "code",
   "execution_count": 7,
   "metadata": {
    "collapsed": false
   },
   "outputs": [
    {
     "data": {
      "text/plain": [
       "<matplotlib.text.Text at 0x2298540b748>"
      ]
     },
     "execution_count": 7,
     "metadata": {},
     "output_type": "execute_result"
    },
    {
     "data": {
      "image/png": "[encoded data removed]",
      "text/plain": [
       "<matplotlib.figure.Figure at 0x229fd163128>"
      ]
     },
     "metadata": {},
     "output_type": "display_data"
    }
   ],
   "source": [
    "from matplotlib import pyplot as plt\n",
    "%matplotlib inline\n",
    "\n",
    "plt.plot([w[1] for w in vocabcounter])\n",
    "plt.gca().set_xscale(\"log\", nonposx=\"clip\")\n",
    "plt.gca().set_yscale(\"log\", nonposy=\"clip\")\n",
    "plt.title(\"Word distribution in title and content.\")\n",
    "plt.xlabel(\"words in the title and content\")\n",
    "plt.ylabel(\"word frequency\")"
   ]
  },
  {
   "cell_type": "markdown",
   "metadata": {},
   "source": [
    "### Load the word embedding file.  "
   ]
  },
  {
   "cell_type": "code",
   "execution_count": 8,
   "metadata": {
    "collapsed": false
   },
   "outputs": [],
   "source": [
    "# Code here \n",
    "\n",
    "def load_wordembedding(file_dir):\n",
    "    \n",
    "    file = open(file_dir, encoding='utf8')\n",
    "    line = file.readline()\n",
    "    words = []\n",
    "    vectors = []\n",
    "    while line:\n",
    "        temp_tokens = re.split(\",\", line) # line.split(\",\")\n",
    "        if len(temp_tokens) != 201:\n",
    "            print(\"error length: %d\\n\"%len(temp_tokens), temp_tokens[0:3])\n",
    "            line = file.readline()\n",
    "            continue\n",
    "        words.append(temp_tokens[0])\n",
    "        vectors.append([float(x) for x in temp_tokens[1:201]])\n",
    "        line = file.readline()\n",
    "    return np.array(words), np.array(vectors)"
   ]
  },
  {
   "cell_type": "code",
   "execution_count": 9,
   "metadata": {
    "collapsed": false
   },
   "outputs": [],
   "source": [
    "def test_wordembedding():\n",
    "    words, vectors = load_wordembedding(\"data/word_vector.csv\")\n",
    "    print(words.shape, vectors.shape)\n",
    "    assert words.shape== (9846,)\n",
    "    assert vectors.shape == (9846,200)"
   ]
  },
  {
   "cell_type": "code",
   "execution_count": 10,
   "metadata": {
    "collapsed": false
   },
   "outputs": [
    {
     "name": "stdout",
     "output_type": "stream",
     "text": [
      "(9846,) (9846, 200)\n"
     ]
    }
   ],
   "source": [
    "#code here: test the data we have so far.  \n",
    "test_wordembedding()\n",
    "#print(title_words[0])\n",
    "#print(content_words[0])\n",
    "words, vectors = load_wordembedding(\"data/word_vector.csv\")"
   ]
  },
  {
   "cell_type": "markdown",
   "metadata": {},
   "source": [
    "Find the intersection of the given embeddings and the vocabulary.  For now, let us just simple disgard those that are not in the embedding.  There are other ways to deal with this.  We can explore them in the future. "
   ]
  },
  {
   "cell_type": "code",
   "execution_count": 11,
   "metadata": {
    "collapsed": false
   },
   "outputs": [],
   "source": [
    "#embedding_words2idx = {w:i for i, w in enumerate(words)}\n",
    "#print(words[:10])\n",
    "matched_words = []\n",
    "idx_vocab2idx_embedding={}\n",
    "for i in range(len(words)):\n",
    "    w = words[i]\n",
    "    if w in vocab:\n",
    "        matched_words.append(w)\n",
    "        idx_vocab2idx_embedding[word2idx[w]] = i"
   ]
  },
  {
   "cell_type": "code",
   "execution_count": 12,
   "metadata": {
    "collapsed": false
   },
   "outputs": [
    {
     "name": "stdout",
     "output_type": "stream",
     "text": [
      "189 可以 可以\n"
     ]
    }
   ],
   "source": [
    "print(idx_vocab2idx_embedding[0], idx2word[0], words[189])"
   ]
  },
  {
   "cell_type": "code",
   "execution_count": 13,
   "metadata": {
    "collapsed": true
   },
   "outputs": [],
   "source": [
    "import pickle\n",
    "FN = 'vocabulary-embedding'\n",
    "with open('data/%s.pkl'%FN,'wb') as fp:\n",
    "    pickle.dump((matched_words, vectors, idx2word, word2idx, idx_vocab2idx_embedding),fp,-1)\n",
    "    "
   ]
  },
  {
   "cell_type": "code",
   "execution_count": 14,
   "metadata": {
    "collapsed": false
   },
   "outputs": [],
   "source": [
    "X = [ c.split() for c in content]\n",
    "Y = [ t.split() for t in title]\n",
    "\n",
    "with open('data/%s.data.pkl'%FN,'wb') as fp:\n",
    "    pickle.dump((X, Y), fp, -1)\n"
   ]
  },
  {
   "cell_type": "markdown",
   "metadata": {},
   "source": [
    "### Data summary\n",
    "For this summarization task, we need to generate a few data files for training. \n",
    "\n",
    "(embedding, idx2word, word2idx, glove_idx2idx)\n",
    "\n",
    "1. embedding: (vocab_size, embedding_dim).  This is a numpy array storing all word vectors.  The order of those words are based from the input embedding files.  The order is kind of arbitrary. \n",
    "2. embedding_words: a list of words in the same order as the embedding, i.e., words[i] -> embedding[i]\n",
    "3. vocab:  a list of words in the given data corpus.  \n",
    "4. word2idx: dictionary to map a word to its position in the vocab\n",
    "5. idx2word: dictionary to map a postion in vocab to the actual word\n",
    "6. idx2idx_embedding: dictionary to map a word index in the vocab to the embedding index,i.e., word2idx[w]:embedding_words2indx[w].   This is to make it easy to find embeddings, given an index of a word. \n"
   ]
  },
  {
   "cell_type": "markdown",
   "metadata": {},
   "source": [
    "### Build the sequence to sequence model for summarization \n",
    "1. Initialize parameters, placeholders/network configurations/...\n",
    "2. Load data \n",
    "2. Build the network in tensorlayer\n",
    "3. Train the network with specific configuration"
   ]
  },
  {
   "cell_type": "code",
   "execution_count": 15,
   "metadata": {
    "collapsed": true
   },
   "outputs": [],
   "source": [
    "maxlend=25 # 0 - if we dont want to use description at all\n",
    "maxlenh=25\n",
    "maxlen = maxlend + maxlenh\n",
    "rnn_size = 512 # must be same as 160330-word-gen\n",
    "rnn_layers = 3  # match FN1\n",
    "batch_norm=False\n"
   ]
  },
  {
   "cell_type": "code",
   "execution_count": 16,
   "metadata": {
    "collapsed": true
   },
   "outputs": [],
   "source": [
    "activation_rnn_size = 40 if maxlend else 0"
   ]
  },
  {
   "cell_type": "code",
   "execution_count": 17,
   "metadata": {
    "collapsed": true
   },
   "outputs": [],
   "source": [
    "# training parameters\n",
    "seed=42\n",
    "p_W, p_U, p_dense, p_emb, weight_decay = 0, 0, 0, 0, 0\n",
    "optimizer = 'adam'\n",
    "LR = 1e-4\n",
    "batch_size=64\n",
    "nflips=10"
   ]
  },
  {
   "cell_type": "code",
   "execution_count": 18,
   "metadata": {
    "collapsed": true
   },
   "outputs": [],
   "source": [
    "nb_train_samples = 200 #30000\n",
    "nb_val_samples = 100 #3000\n",
    "\n",
    "nb_unknown_words = 10 # we use the last 10 words to replace unknown words.  Actually, we can just use one for it, e.g., (的/了)"
   ]
  },
  {
   "cell_type": "markdown",
   "metadata": {},
   "source": [
    "The input data is concatenated from the content and the title.  The length is defined as maxlend and maxlent respectively.  In other words, the first half of the input comes from the content and the second half comes from the title.  If the source data is shorter than the required one, we add empty strings.  If longer, we cut off the tail. \n",
    "\n",
    "The label data(sequence) is just the title. "
   ]
  },
  {
   "cell_type": "code",
   "execution_count": 19,
   "metadata": {
    "collapsed": false
   },
   "outputs": [
    {
     "name": "stdout",
     "output_type": "stream",
     "text": [
      "9846 200 300 300\n"
     ]
    }
   ],
   "source": [
    "# load data from pickle file \n",
    "import pickle\n",
    "FN = 'vocabulary-embedding'\n",
    "with open('data/%s.pkl'%FN, 'rb') as fp:\n",
    "    matched_words_, vectors, idx2word, word2idx, idx_vocab2idx_embedding = pickle.load(fp)\n",
    "    \n",
    "vocab_size, embedding_size = vectors.shape\n",
    "\n",
    "with open('data/%s.data.pkl'%FN, 'rb') as fp:\n",
    "    X, Y = pickle.load(fp)\n",
    "tf.global_variables_initializer\n",
    "print(vocab_size, embedding_size, len(X), len(Y))"
   ]
  },
  {
   "cell_type": "code",
   "execution_count": 20,
   "metadata": {
    "collapsed": false
   },
   "outputs": [
    {
     "name": "stdout",
     "output_type": "stream",
     "text": [
      "number of examples: 300 300\n",
      "dimension of embedding space for words: 200\n",
      "vocabulary size 9846 the last 10 words can be used as place holders for unknown/oov words\n",
      "total number of different words 23992 23992\n",
      "number of words outside vocabulary which we can substitue using glove similarity 4300\n",
      "number of words that will be regarded as unknonw(unk)/out-of-vocabulary(oov) 9846\n"
     ]
    }
   ],
   "source": [
    "print ('number of examples:',len(X),len(Y))\n",
    "print ('dimension of embedding space for words:',embedding_size)\n",
    "print ('vocabulary size', vocab_size, 'the last %d words can be used as place holders for unknown/oov words'%nb_unknown_words)\n",
    "print ('total number of different words',len(idx2word), len(word2idx))\n",
    "print ('number of words outside vocabulary which we can substitue using glove similarity', len(idx_vocab2idx_embedding))\n",
    "print ('number of words that will be regarded as unknonw(unk)/out-of-vocabulary(oov)',len(idx2word)-vocab_size-len(idx_vocab2idx_embedding))"
   ]
  },
  {
   "cell_type": "code",
   "execution_count": 21,
   "metadata": {
    "collapsed": false
   },
   "outputs": [
    {
     "data": {
      "text/plain": [
       "(200, 200, 100, 100)"
      ]
     },
     "execution_count": 21,
     "metadata": {},
     "output_type": "execute_result"
    }
   ],
   "source": [
    "from sklearn.cross_validation import train_test_split\n",
    "\n",
    "X_train, X_test, Y_train, Y_test = train_test_split(X, Y, test_size=nb_val_samples, random_state=seed)\n",
    "len(X_train), len(Y_train), len(X_test), len(Y_test)\n",
    "#print(X_train[:3])\n",
    "#print(Y_train[:3])"
   ]
  },
  {
   "cell_type": "code",
   "execution_count": null,
   "metadata": {
    "collapsed": true
   },
   "outputs": [],
   "source": []
  },
  {
   "cell_type": "code",
   "execution_count": null,
   "metadata": {
    "collapsed": true
   },
   "outputs": [],
   "source": []
  },
  {
   "cell_type": "markdown",
   "metadata": {},
   "source": [
    "The input to the whole network is a sequence of words, the output is another sequence of words, which are the generated title of the given input.  The input has a fixed windows size, "
   ]
  },
  {
   "cell_type": "code",
   "execution_count": 22,
   "metadata": {
    "collapsed": false
   },
   "outputs": [],
   "source": [
    "x = tf.placeholder(tf.float32, shape=(batch_size, embedding_size))"
   ]
  },
  {
   "cell_type": "code",
   "execution_count": null,
   "metadata": {
    "collapsed": true
   },
   "outputs": [],
   "source": []
  },
  {
   "cell_type": "code",
   "execution_count": null,
   "metadata": {
    "collapsed": true
   },
   "outputs": [],
   "source": []
  },
  {
   "cell_type": "code",
   "execution_count": null,
   "metadata": {
    "collapsed": true
   },
   "outputs": [],
   "source": []
  },
  {
   "cell_type": "code",
   "execution_count": null,
   "metadata": {
    "collapsed": true
   },
   "outputs": [],
   "source": []
  }
 ],
 "metadata": {
  "kernelspec": {
   "display_name": "Python 3",
   "language": "python",
   "name": "python3"
  },
  "language_info": {
   "codemirror_mode": {
    "name": "ipython",
    "version": 3
   },
   "file_extension": ".py",
   "mimetype": "text/x-python",
   "name": "python",
   "nbconvert_exporter": "python",
   "pygments_lexer": "ipython3",
   "version": "3.5.3"
  }
 },
 "nbformat": 4,
 "nbformat_minor": 2
}
